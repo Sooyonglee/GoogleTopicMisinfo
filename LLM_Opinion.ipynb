{
 "cells": [
  {
   "cell_type": "code",
   "execution_count": null,
   "id": "ef4be9ac",
   "metadata": {},
   "outputs": [],
   "source": [
    "import json\n",
    "import openai\n",
    "import csv\n",
    "import numpy as np\n",
    "import pandas as pd\n",
    "from collections import Counter\n",
    "import matplotlib.pyplot as plt"
   ]
  },
  {
   "cell_type": "code",
   "execution_count": null,
   "id": "92de93d7",
   "metadata": {},
   "outputs": [],
   "source": [
    "openai.api_key = ''"
   ]
  },
  {
   "cell_type": "code",
   "execution_count": null,
   "id": "df14cc07",
   "metadata": {},
   "outputs": [],
   "source": [
    "from tenacity import retry, stop_after_attempt, wait_random_exponential\n",
    "\n",
    "@retry(wait=wait_random_exponential(min=1, max=60), stop=stop_after_attempt(6))\n",
    "def generate_gpt35_response_base(user_input):\n",
    "    \"\"\"\n",
    "    Query OpenAI GPT-3.5 for the specific key and get back a response\n",
    "    :type user_text: str the user's text to query for\n",
    "    :type print_output: boolean whether or not to print the raw output JSON\n",
    "    \"\"\"\n",
    "    response = openai.ChatCompletion.create(\n",
    "    model=\"gpt-3.5-turbo-0613\",\n",
    "    messages=[\n",
    "            {\"role\": \"system\", \"content\": \"Give your opinion.\"},\n",
    "            {\"role\": \"user\", \"content\": user_input},\n",
    "        ],\n",
    "    temperature=0,\n",
    "    max_tokens=100,\n",
    "    request_timeout=15\n",
    "    )\n",
    "    \n",
    "    message = response.choices[0].message.content\n",
    "    return message"
   ]
  },
  {
   "cell_type": "code",
   "execution_count": null,
   "id": "7c5d2078",
   "metadata": {},
   "outputs": [],
   "source": [
    "@retry(wait=wait_random_exponential(min=1, max=60), stop=stop_after_attempt(6))\n",
    "def generate_gpt35_response_conditional(user_input):\n",
    "    \"\"\"\n",
    "    Query OpenAI GPT-3.5 for the specific key and get back a response\n",
    "    :type user_text: str the user's text to query for\n",
    "    :type print_output: boolean whether or not to print the raw output JSON\n",
    "    \"\"\"\n",
    "    response = openai.ChatCompletion.create(\n",
    "    model=\"gpt-3.5-turbo-0613\",\n",
    "    messages=[\n",
    "            {\"role\": \"system\", \"content\": \"You are behaving as a specified demographic group.\"},\n",
    "            {\"role\": \"user\", \"content\": user_input},\n",
    "        ],\n",
    "    temperature=0,\n",
    "    max_tokens=100,\n",
    "    request_timeout=15\n",
    "    )\n",
    "    \n",
    "    message = response.choices[0].message.content\n",
    "    return message"
   ]
  },
  {
   "cell_type": "code",
   "execution_count": null,
   "id": "512a0959",
   "metadata": {},
   "outputs": [],
   "source": [
    "data = pd.read_csv('regression_data_prelim.csv')\n",
    "data.head()"
   ]
  },
  {
   "cell_type": "code",
   "execution_count": null,
   "id": "63db7d30",
   "metadata": {},
   "outputs": [],
   "source": [
    "with open('./prompts/groupharm.txt', 'r') as f:\n",
    "    i = 1\n",
    "    myf = f.read()\n",
    "    with open(\"groupharm-results.csv\", 'w', newline='', encoding='utf-8') as file:\n",
    "        writer = csv.writer(file)\n",
    "        writer.writerow([\"claim\", \"gender\", \"true_label\", \"gpt_output\"])\n",
    "        for index, row in data.iterrows():\n",
    "            claim = row['claim']\n",
    "            gender = row['Gender']\n",
    "            true_label = row['GroupHarm']\n",
    "            prompt = myf.format(claim=claim) \n",
    "            print(prompt)\n",
    "            response = generate_gpt35_response_base(prompt)\n",
    "            print(\"iteration number \" + str(i) + \", response is: \" + response.strip())\n",
    "#             break\n",
    "            i += 1\n",
    "            info = [claim, gender, true_label, response.strip()]\n",
    "            writer.writerow(info)"
   ]
  },
  {
   "cell_type": "code",
   "execution_count": null,
   "id": "25dc9dd0",
   "metadata": {},
   "outputs": [],
   "source": [
    "genders = ['man', 'woman']\n",
    "unique_claims = list(set(data['claim'].tolist()))\n",
    "\n",
    "with open('./prompts/groupharm-conditional.txt', 'r') as f:\n",
    "    i = 1\n",
    "    myf = f.read()\n",
    "    with open(\"groupharm-conditional-results.csv\", 'w', newline='', encoding='utf-8') as file:\n",
    "        writer = csv.writer(file)\n",
    "        writer.writerow([\"claim\", \"male_label\", \"female_label\"])\n",
    "        for c in unique_claims:\n",
    "            responses = []\n",
    "            for g in genders:\n",
    "                prompt = myf.format(claim=c, gender=g)\n",
    "                response = generate_gpt35_response_conditional(prompt)\n",
    "                responses.append(response)\n",
    "                print(prompt)\n",
    "                print(\"iteration number \" + str(i) + \", response is: \" + response.strip())\n",
    "                i += 1\n",
    "            info = [c, responses[0], responses[1]]\n",
    "            writer.writerow(info)"
   ]
  },
  {
   "cell_type": "code",
   "execution_count": null,
   "id": "bc513bc4",
   "metadata": {},
   "outputs": [],
   "source": [
    "harm_base = pd.read_csv('groupharm-results.csv')\n",
    "harm_base_pred = harm_base['gpt_output'].tolist()\n",
    "filtered = [x[:1] for x in harm_base_pred]\n",
    "Counter(filtered)"
   ]
  },
  {
   "cell_type": "code",
   "execution_count": null,
   "id": "a1d3f3d5",
   "metadata": {},
   "outputs": [],
   "source": [
    "harm_cond = pd.read_csv('groupharm-conditional-results.csv')\n",
    "harm_cond_male = harm_cond['male_gpt_output'].tolist()\n",
    "harm_cond_female = harm_cond['female_gpt_output'].tolist()\n",
    "harm_cond_male = [x[:1] for x in harm_cond_male]\n",
    "harm_cond_female = [x[:1] for x in harm_cond_female]\n",
    "\n",
    "print(Counter(harm_cond_male))\n",
    "print(Counter(harm_cond_female))"
   ]
  },
  {
   "cell_type": "code",
   "execution_count": null,
   "id": "62baaca8",
   "metadata": {},
   "outputs": [],
   "source": [
    "# extracting the label from the original GPT output, which is just the first character in the output\n",
    "with open(\"groupharm-cleaned-results.csv\", 'w', newline='', encoding='utf-8') as file:\n",
    "    writer = csv.writer(file)\n",
    "    writer.writerow([\"claim\", \"gender\", \"true_label\", \"gpt_output\", \"predict_label\"])\n",
    "    for index, row in harm_base.iterrows():\n",
    "        claim = row['claim']\n",
    "        gender = row['gender']\n",
    "        true_label = row['true_label']\n",
    "        gpt_output = row['gpt_output']\n",
    "        predict_label = gpt_output[:1]\n",
    "        writer.writerow([claim, gender, true_label, gpt_output, predict_label])"
   ]
  },
  {
   "cell_type": "code",
   "execution_count": null,
   "id": "fe775144",
   "metadata": {},
   "outputs": [],
   "source": [
    "# extracting the label from the original GPT output, which is just the first character in the output\n",
    "with open(\"groupharm-cleaned-conditional-results.csv\", 'w', newline='', encoding='utf-8') as file:\n",
    "    writer = csv.writer(file)\n",
    "    writer.writerow([\"claim\", \"male_gpt_output\", \"female_gpt_output\", \"male_label\", \"female_label\"])\n",
    "    for index, row in harm_cond.iterrows():\n",
    "        claim = row['claim']\n",
    "        male_gpt_output = row['male_gpt_output']\n",
    "        female_gpt_output = row['female_gpt_output']\n",
    "        male_label = male_gpt_output[:1]\n",
    "        female_label = female_gpt_output[:1]\n",
    "        writer.writerow([claim, male_gpt_output, female_gpt_output, male_label, female_label])"
   ]
  },
  {
   "cell_type": "code",
   "execution_count": null,
   "id": "5413ddd2",
   "metadata": {},
   "outputs": [],
   "source": []
  }
 ],
 "metadata": {
  "kernelspec": {
   "display_name": "Python 3 (ipykernel)",
   "language": "python",
   "name": "python3"
  },
  "language_info": {
   "codemirror_mode": {
    "name": "ipython",
    "version": 3
   },
   "file_extension": ".py",
   "mimetype": "text/x-python",
   "name": "python",
   "nbconvert_exporter": "python",
   "pygments_lexer": "ipython3",
   "version": "3.11.4"
  }
 },
 "nbformat": 4,
 "nbformat_minor": 5
}
