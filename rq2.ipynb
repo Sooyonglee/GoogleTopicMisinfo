{
 "cells": [
  {
   "cell_type": "code",
   "execution_count": 9,
   "id": "bbf2fb4c",
   "metadata": {},
   "outputs": [],
   "source": [
    "import json\n",
    "import openai\n",
    "import csv\n",
    "import numpy as np\n",
    "import pandas as pd\n",
    "from collections import Counter\n",
    "import matplotlib.pyplot as plt\n",
    "import os\n",
    "from scipy import stats\n",
    "from sklearn.metrics import mean_squared_error\n",
    "import random"
   ]
  },
  {
   "cell_type": "code",
   "execution_count": 3,
   "id": "62e7cfef",
   "metadata": {},
   "outputs": [
    {
     "data": {
      "text/html": [
       "<div>\n",
       "<style scoped>\n",
       "    .dataframe tbody tr th:only-of-type {\n",
       "        vertical-align: middle;\n",
       "    }\n",
       "\n",
       "    .dataframe tbody tr th {\n",
       "        vertical-align: top;\n",
       "    }\n",
       "\n",
       "    .dataframe thead th {\n",
       "        text-align: right;\n",
       "    }\n",
       "</style>\n",
       "<table border=\"1\" class=\"dataframe\">\n",
       "  <thead>\n",
       "    <tr style=\"text-align: right;\">\n",
       "      <th></th>\n",
       "      <th>claim</th>\n",
       "      <th>gender</th>\n",
       "      <th>true_label</th>\n",
       "      <th>gpt_output</th>\n",
       "      <th>predict_label</th>\n",
       "    </tr>\n",
       "  </thead>\n",
       "  <tbody>\n",
       "    <tr>\n",
       "      <th>0</th>\n",
       "      <td>Ingesting Borax has health benefits</td>\n",
       "      <td>Male</td>\n",
       "      <td>1</td>\n",
       "      <td>6. \\n\\nIngesting Borax can be extremely harmfu...</td>\n",
       "      <td>6</td>\n",
       "    </tr>\n",
       "    <tr>\n",
       "      <th>1</th>\n",
       "      <td>Ingesting Borax has health benefits</td>\n",
       "      <td>Male</td>\n",
       "      <td>4</td>\n",
       "      <td>6. \\n\\nIngesting Borax can be extremely harmfu...</td>\n",
       "      <td>6</td>\n",
       "    </tr>\n",
       "    <tr>\n",
       "      <th>2</th>\n",
       "      <td>CDC admits 'debilitating illnesses' are 'relat...</td>\n",
       "      <td>Female</td>\n",
       "      <td>1</td>\n",
       "      <td>1. \\n\\nThis claim is highly unlikely to dispro...</td>\n",
       "      <td>1</td>\n",
       "    </tr>\n",
       "    <tr>\n",
       "      <th>3</th>\n",
       "      <td>Ukraine President Volodymyr Zelensky welcoming...</td>\n",
       "      <td>Male</td>\n",
       "      <td>1</td>\n",
       "      <td>1. \\n\\nThis claim does not appear to have any ...</td>\n",
       "      <td>1</td>\n",
       "    </tr>\n",
       "    <tr>\n",
       "      <th>4</th>\n",
       "      <td>Illegal Immigrants Can Be Police Officers In C...</td>\n",
       "      <td>Male</td>\n",
       "      <td>5</td>\n",
       "      <td>4. \\n\\nWhile the claim itself does not explici...</td>\n",
       "      <td>4</td>\n",
       "    </tr>\n",
       "  </tbody>\n",
       "</table>\n",
       "</div>"
      ],
      "text/plain": [
       "                                               claim  gender  true_label  \\\n",
       "0                Ingesting Borax has health benefits    Male           1   \n",
       "1                Ingesting Borax has health benefits    Male           4   \n",
       "2  CDC admits 'debilitating illnesses' are 'relat...  Female           1   \n",
       "3  Ukraine President Volodymyr Zelensky welcoming...    Male           1   \n",
       "4  Illegal Immigrants Can Be Police Officers In C...    Male           5   \n",
       "\n",
       "                                          gpt_output  predict_label  \n",
       "0  6. \\n\\nIngesting Borax can be extremely harmfu...              6  \n",
       "1  6. \\n\\nIngesting Borax can be extremely harmfu...              6  \n",
       "2  1. \\n\\nThis claim is highly unlikely to dispro...              1  \n",
       "3  1. \\n\\nThis claim does not appear to have any ...              1  \n",
       "4  4. \\n\\nWhile the claim itself does not explici...              4  "
      ]
     },
     "execution_count": 3,
     "metadata": {},
     "output_type": "execute_result"
    }
   ],
   "source": [
    "data_base = pd.read_csv('data/gpt-35/groupharm-base-results-prompt1.csv')\n",
    "data_base.head()"
   ]
  },
  {
   "cell_type": "code",
   "execution_count": 24,
   "id": "71e3c468",
   "metadata": {},
   "outputs": [],
   "source": [
    "data = pd.read_csv('regression_data_prelim.csv')\n",
    "abortion_data = data.loc[data['topic'] == 'Abortion']\n",
    "abortion_claims = abortion_data['claim'].unique()\n",
    "\n",
    "black_data = data.loc[data['topic'] == 'Black Americans']\n",
    "black_claims = black_data['claim'].unique()\n",
    "\n",
    "immigration_data = data.loc[data['topic'] == 'Illegal Immigration']\n",
    "immigration_claims = immigration_data['claim'].unique()\n",
    "\n",
    "lgbtq_data = data.loc[data['topic'] == 'LGBTQ']\n",
    "lgbtq_claims = lgbtq_data['claim'].unique()\n",
    "\n",
    "claims_by_topic = {'Abortion': abortion_claims, 'Black Americans': black_claims, \\\n",
    "                   'Illegal Immigration': immigration_claims, 'LGBTQ': lgbtq_claims}"
   ]
  },
  {
   "cell_type": "code",
   "execution_count": 29,
   "id": "c2e303e7",
   "metadata": {},
   "outputs": [],
   "source": [
    "# create a dictionary which maps claims to ratings by GPT, male, female\n",
    "d = {}\n",
    "for claim in data_base['claim'].unique():\n",
    "    d[claim] = [[], [], []]\n",
    "\n",
    "for index, row in data_base.iterrows():\n",
    "    claim = row['claim']\n",
    "    true_label = row['true_label']\n",
    "    gpt_label = row['predict_label']\n",
    "    d[claim][0].append(gpt_label)\n",
    "    if row['gender'] == 'Male':\n",
    "        d[claim][1].append(true_label)\n",
    "    else:\n",
    "        d[claim][2].append(true_label)\n",
    "        \n",
    "MSE_by_topic = {'Abortion': [[], []], 'Black Americans': [[], []], \\\n",
    "               'Illegal Immigration': [[], []], 'LGBTQ': [[], []]}\n",
    "\n",
    "for i in range(1000):    \n",
    "    sampled_claims = random.choices(list(d.keys()), k=len(d.keys()))\n",
    "    for topic in claims_by_topic:\n",
    "        gpt_scores = []\n",
    "        male_scores = []\n",
    "        female_scores = []\n",
    "        for claim in sampled_claims:\n",
    "            if claim in claims_by_topic[topic]:\n",
    "                gpt_scores.append(np.average(d[claim][0]))\n",
    "                male_scores.append(np.average(d[claim][1]))\n",
    "                female_scores.append(np.average(d[claim][2]))\n",
    "        male_error = mean_squared_error(gpt_scores, male_scores)\n",
    "        female_error = mean_squared_error(gpt_scores, female_scores)\n",
    "        MSE_by_topic[topic][0].append(male_error)\n",
    "        MSE_by_topic[topic][1].append(female_error)"
   ]
  },
  {
   "cell_type": "code",
   "execution_count": 39,
   "id": "94d2fa33",
   "metadata": {},
   "outputs": [
    {
     "name": "stdout",
     "output_type": "stream",
     "text": [
      "TOPIC: Abortion\n",
      "0.004\n",
      "TOPIC: Black Americans\n",
      "0.885\n",
      "TOPIC: Illegal Immigration\n",
      "0.365\n",
      "TOPIC: LGBTQ\n",
      "0.364\n"
     ]
    }
   ],
   "source": [
    "for topic in MSE_by_topic:\n",
    "    print(\"TOPIC:\", topic)\n",
    "    differences = []\n",
    "    for a, b in zip(MSE_by_topic[topic][0], MSE_by_topic[topic][1]):\n",
    "        differences.append(a-b)\n",
    "    greater_than_zero = [x for x in differences if x > 0]\n",
    "    print(len(greater_than_zero) / len(differences))"
   ]
  },
  {
   "cell_type": "code",
   "execution_count": 32,
   "id": "22eb9538",
   "metadata": {},
   "outputs": [
    {
     "name": "stdout",
     "output_type": "stream",
     "text": [
      "TOPIC: Abortion\n",
      "3.278887979882983 7.741135646061013\n",
      "TtestResult(statistic=-78.28443253083576, pvalue=0.0, df=1998.0)\n",
      "TOPIC: Black Americans\n",
      "2.8896815730883834 1.945837174071463\n",
      "TtestResult(statistic=25.142161565893698, pvalue=1.9880311225479792e-121, df=1998.0)\n",
      "TOPIC: Illegal Immigration\n",
      "3.820760013649243 4.237266044662161\n",
      "TtestResult(statistic=-9.023294239688868, pvalue=4.1751006010623427e-19, df=1998.0)\n",
      "TOPIC: LGBTQ\n",
      "3.7753658596643516 4.333345816733445\n",
      "TtestResult(statistic=-8.960730045690878, pvalue=7.216426805120328e-19, df=1998.0)\n"
     ]
    }
   ],
   "source": [
    "for topic in MSE_by_topic:\n",
    "    print(\"TOPIC:\", topic)\n",
    "    print(np.average(MSE_by_topic[topic][0]), np.average(MSE_by_topic[topic][1]))\n",
    "    print(stats.ttest_ind(a=MSE_by_topic[topic][0], b=MSE_by_topic[topic][1]))"
   ]
  },
  {
   "cell_type": "code",
   "execution_count": 34,
   "id": "0a1744d4",
   "metadata": {},
   "outputs": [
    {
     "data": {
      "text/plain": [
       "(array([ 10.,  45., 130., 206., 219., 204., 125.,  38.,  14.,   9.]),\n",
       " array([1.56657299, 1.9459472 , 2.32532142, 2.70469563, 3.08406985,\n",
       "        3.46344406, 3.84281828, 4.22219249, 4.60156671, 4.98094092,\n",
       "        5.36031513]),\n",
       " <BarContainer object of 10 artists>)"
      ]
     },
     "execution_count": 34,
     "metadata": {},
     "output_type": "execute_result"
    },
    {
     "data": {
      "image/png": "[encoded data removed]",
      "text/plain": [
       "<Figure size 640x480 with 1 Axes>"
      ]
     },
     "metadata": {},
     "output_type": "display_data"
    }
   ],
   "source": [
    "plt.hist(MSE_by_topic['Abortion'][0])"
   ]
  },
  {
   "cell_type": "code",
   "execution_count": null,
   "id": "528e1513",
   "metadata": {},
   "outputs": [],
   "source": []
  }
 ],
 "metadata": {
  "kernelspec": {
   "display_name": "Python 3 (ipykernel)",
   "language": "python",
   "name": "python3"
  },
  "language_info": {
   "codemirror_mode": {
    "name": "ipython",
    "version": 3
   },
   "file_extension": ".py",
   "mimetype": "text/x-python",
   "name": "python",
   "nbconvert_exporter": "python",
   "pygments_lexer": "ipython3",
   "version": "3.11.4"
  }
 },
 "nbformat": 4,
 "nbformat_minor": 5
}
